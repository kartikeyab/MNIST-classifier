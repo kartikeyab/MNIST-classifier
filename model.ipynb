{
  "nbformat": 4,
  "nbformat_minor": 0,
  "metadata": {
    "colab": {
      "name": "Untitled3.ipynb",
      "version": "0.3.2",
      "views": {},
      "default_view": {},
      "provenance": []
    },
    "kernelspec": {
      "name": "python2",
      "display_name": "Python 2"
    },
    "accelerator": "GPU"
  },
  "cells": [
    {
      "metadata": {
        "id": "bSbB6wj4U4rq",
        "colab_type": "code",
        "colab": {
          "autoexec": {
            "startup": false,
            "wait_interval": 0
          },
          "base_uri": "https://localhost:8080/",
          "height": 34
        },
        "outputId": "da07807a-5d2f-4e2e-a0d9-578cf2796a7c",
        "executionInfo": {
          "status": "ok",
          "timestamp": 1526392563281,
          "user_tz": -330,
          "elapsed": 2945,
          "user": {
            "displayName": "Kartikeya Bhardwaj",
            "photoUrl": "https://lh3.googleusercontent.com/a/default-user=s128",
            "userId": "111190796678179014531"
          }
        }
      },
      "cell_type": "code",
      "source": [
        "import numpy as np\n",
        "import tensorflow as tf\n",
        "import keras\n",
        "from matplotlib import pyplot as plt\n",
        "from keras.datasets import mnist\n",
        "from keras.utils import *\n",
        "from keras.models import Sequential\n",
        "from keras.layers import Conv2D , Dropout , MaxPooling2D , Dense , Flatten\n"
      ],
      "execution_count": 2,
      "outputs": [
        {
          "output_type": "stream",
          "text": [
            "Using TensorFlow backend.\n"
          ],
          "name": "stderr"
        }
      ]
    },
    {
      "metadata": {
        "id": "xfFI3hOUVLyP",
        "colab_type": "code",
        "colab": {
          "autoexec": {
            "startup": false,
            "wait_interval": 0
          },
          "base_uri": "https://localhost:8080/",
          "height": 381
        },
        "outputId": "54057fc6-bde7-4d47-8f16-83a583693626",
        "executionInfo": {
          "status": "ok",
          "timestamp": 1526392565900,
          "user_tz": -330,
          "elapsed": 1641,
          "user": {
            "displayName": "Kartikeya Bhardwaj",
            "photoUrl": "https://lh3.googleusercontent.com/a/default-user=s128",
            "userId": "111190796678179014531"
          }
        }
      },
      "cell_type": "code",
      "source": [
        "(x_train ,y_train),(x_test,y_test)= mnist.load_data()\n",
        "\n",
        "import random\n",
        "i = random.randint(1,10)\n",
        "plt.imshow(x_train[i])\n",
        "print(\"Labels : %s\" %y_train[i])\n",
        "print((x_train.shape ,y_train.shape),(x_test.shape,y_test.shape))\n"
      ],
      "execution_count": 3,
      "outputs": [
        {
          "output_type": "stream",
          "text": [
            "Labels : 3\n",
            "(((60000, 28, 28), (60000,)), ((10000, 28, 28), (10000,)))\n"
          ],
          "name": "stdout"
        },
        {
          "output_type": "display_data",
          "data": {
            "image/png": "[encoded data removed]",
            "text/plain": [
              "<matplotlib.figure.Figure at 0x7f7253e1b950>"
            ]
          },
          "metadata": {
            "tags": []
          }
        }
      ]
    },
    {
      "metadata": {
        "id": "xbw6n_oqXP_m",
        "colab_type": "code",
        "colab": {
          "autoexec": {
            "startup": false,
            "wait_interval": 0
          }
        }
      },
      "cell_type": "code",
      "source": [
        ""
      ],
      "execution_count": 0,
      "outputs": []
    },
    {
      "metadata": {
        "id": "kqIeJbjybunS",
        "colab_type": "code",
        "colab": {
          "autoexec": {
            "startup": false,
            "wait_interval": 0
          },
          "base_uri": "https://localhost:8080/",
          "height": 34
        },
        "outputId": "d03e9a26-a38b-40ea-8889-1f6548099a62",
        "executionInfo": {
          "status": "ok",
          "timestamp": 1526392569899,
          "user_tz": -330,
          "elapsed": 1159,
          "user": {
            "displayName": "Kartikeya Bhardwaj",
            "photoUrl": "https://lh3.googleusercontent.com/a/default-user=s128",
            "userId": "111190796678179014531"
          }
        }
      },
      "cell_type": "code",
      "source": [
        "x_train = x_train.reshape(x_train.shape[0], 28, 28, 1)\n",
        "x_test = x_test.reshape(x_test.shape[0], 28, 28, 1)\n",
        "\n",
        "x_train = x_train.astype('float32')\n",
        "x_test = x_test.astype('float32')\n",
        "\n",
        "x_train/=255.0\n",
        "x_test/=255.0\n",
        "\n",
        "\n",
        "number_of_classes  = 10\n",
        "\n",
        "y_train = np_utils.to_categorical(y_train, number_of_classes)\n",
        "y_test = np_utils.to_categorical(y_test, number_of_classes)\n",
        "\n",
        "print(x_train.shape, y_train.shape)\n"
      ],
      "execution_count": 4,
      "outputs": [
        {
          "output_type": "stream",
          "text": [
            "((60000, 28, 28, 1), (60000, 10))\n"
          ],
          "name": "stdout"
        }
      ]
    },
    {
      "metadata": {
        "id": "pss-0SHDcYIJ",
        "colab_type": "code",
        "colab": {
          "autoexec": {
            "startup": false,
            "wait_interval": 0
          },
          "base_uri": "https://localhost:8080/",
          "height": 454
        },
        "outputId": "ef9b7602-2180-4867-e0f4-f299e2af2ee1",
        "executionInfo": {
          "status": "ok",
          "timestamp": 1526392581012,
          "user_tz": -330,
          "elapsed": 1217,
          "user": {
            "displayName": "Kartikeya Bhardwaj",
            "photoUrl": "https://lh3.googleusercontent.com/a/default-user=s128",
            "userId": "111190796678179014531"
          }
        }
      },
      "cell_type": "code",
      "source": [
        "model = Sequential()\n",
        "model.add(Conv2D(filters = 32, kernel_size =  (3,3) , input_shape = (28,28,1) , activation = 'relu'))\n",
        "model.add(MaxPooling2D(pool_size = (2,2)))\n",
        "\n",
        "model.add(Conv2D(filters = 64 ,kernel_size = (3,3), activation = 'relu'))\n",
        "model.add(Dropout(0.3))\n",
        "model.add(MaxPooling2D(pool_size=(2,2)))\n",
        "\n",
        "model.add(Flatten())\n",
        "model.add(Dense(512, activation= 'relu'))\n",
        "model.add(Dropout(0.5))\n",
        "model.add(Dense(number_of_classes , activation = 'softmax'))\n",
        "\n",
        "model.compile(loss= 'categorical_crossentropy', optimizer = 'adam' , metrics = ['accuracy'])\n",
        "print(model.summary())"
      ],
      "execution_count": 5,
      "outputs": [
        {
          "output_type": "stream",
          "text": [
            "_________________________________________________________________\n",
            "Layer (type)                 Output Shape              Param #   \n",
            "=================================================================\n",
            "conv2d_1 (Conv2D)            (None, 26, 26, 32)        320       \n",
            "_________________________________________________________________\n",
            "max_pooling2d_1 (MaxPooling2 (None, 13, 13, 32)        0         \n",
            "_________________________________________________________________\n",
            "conv2d_2 (Conv2D)            (None, 11, 11, 64)        18496     \n",
            "_________________________________________________________________\n",
            "dropout_1 (Dropout)          (None, 11, 11, 64)        0         \n",
            "_________________________________________________________________\n",
            "max_pooling2d_2 (MaxPooling2 (None, 5, 5, 64)          0         \n",
            "_________________________________________________________________\n",
            "flatten_1 (Flatten)          (None, 1600)              0         \n",
            "_________________________________________________________________\n",
            "dense_1 (Dense)              (None, 512)               819712    \n",
            "_________________________________________________________________\n",
            "dropout_2 (Dropout)          (None, 512)               0         \n",
            "_________________________________________________________________\n",
            "dense_2 (Dense)              (None, 10)                5130      \n",
            "=================================================================\n",
            "Total params: 843,658\n",
            "Trainable params: 843,658\n",
            "Non-trainable params: 0\n",
            "_________________________________________________________________\n",
            "None\n"
          ],
          "name": "stdout"
        }
      ]
    },
    {
      "metadata": {
        "id": "VSM72xqq-ZUq",
        "colab_type": "code",
        "colab": {
          "autoexec": {
            "startup": false,
            "wait_interval": 0
          },
          "base_uri": "https://localhost:8080/",
          "height": 370
        },
        "outputId": "6b72b69e-cc8f-4f86-8d45-2c0e8dc7378e",
        "executionInfo": {
          "status": "ok",
          "timestamp": 1526392848773,
          "user_tz": -330,
          "elapsed": 251518,
          "user": {
            "displayName": "Kartikeya Bhardwaj",
            "photoUrl": "https://lh3.googleusercontent.com/a/default-user=s128",
            "userId": "111190796678179014531"
          }
        }
      },
      "cell_type": "code",
      "source": [
        "model.fit(x_train, y_train , epochs = 10 , batch_size = 32)\n",
        "scores = model.evaluate(x_test,y_test,verbose = 0)\n",
        "print(\"Accuracy: %.2f%%\" % (scores[1]*100))"
      ],
      "execution_count": 6,
      "outputs": [
        {
          "output_type": "stream",
          "text": [
            "Epoch 1/10\n",
            "60000/60000 [==============================] - 28s 472us/step - loss: 0.1450 - acc: 0.9542\n",
            "Epoch 2/10\n",
            "37728/60000 [=================>............] - ETA: 9s - loss: 0.0586 - acc: 0.9819"
          ],
          "name": "stdout"
        },
        {
          "output_type": "stream",
          "text": [
            "60000/60000 [==============================] - 25s 410us/step - loss: 0.0554 - acc: 0.9829\n",
            "Epoch 3/10\n",
            "60000/60000 [==============================] - 24s 407us/step - loss: 0.0431 - acc: 0.9866\n",
            "Epoch 4/10\n",
            "  544/60000 [..............................] - ETA: 24s - loss: 0.0380 - acc: 0.9835"
          ],
          "name": "stdout"
        },
        {
          "output_type": "stream",
          "text": [
            "60000/60000 [==============================] - 24s 408us/step - loss: 0.0362 - acc: 0.9888\n",
            "Epoch 5/10\n",
            "43648/60000 [====================>.........] - ETA: 6s - loss: 0.0284 - acc: 0.9907"
          ],
          "name": "stdout"
        },
        {
          "output_type": "stream",
          "text": [
            "60000/60000 [==============================] - 25s 408us/step - loss: 0.0305 - acc: 0.9901\n",
            "Epoch 6/10\n",
            "60000/60000 [==============================] - 25s 409us/step - loss: 0.0264 - acc: 0.9914\n",
            "Epoch 7/10\n",
            " 2016/60000 [>.............................] - ETA: 23s - loss: 0.0336 - acc: 0.9896"
          ],
          "name": "stdout"
        },
        {
          "output_type": "stream",
          "text": [
            "60000/60000 [==============================] - 24s 407us/step - loss: 0.0238 - acc: 0.9922\n",
            "Epoch 8/10\n",
            "44736/60000 [=====================>........] - ETA: 6s - loss: 0.0204 - acc: 0.9937"
          ],
          "name": "stdout"
        },
        {
          "output_type": "stream",
          "text": [
            "60000/60000 [==============================] - 24s 406us/step - loss: 0.0208 - acc: 0.9937\n",
            "Epoch 9/10\n",
            "60000/60000 [==============================] - 25s 413us/step - loss: 0.0193 - acc: 0.9939\n",
            "Epoch 10/10\n",
            " 1952/60000 [..............................] - ETA: 24s - loss: 0.0222 - acc: 0.9933"
          ],
          "name": "stdout"
        },
        {
          "output_type": "stream",
          "text": [
            "60000/60000 [==============================] - 24s 406us/step - loss: 0.0190 - acc: 0.9941\n",
            "Accuracy: 99.36%\n"
          ],
          "name": "stdout"
        }
      ]
    },
    {
      "metadata": {
        "id": "OOADsFPLAPEA",
        "colab_type": "code",
        "colab": {
          "autoexec": {
            "startup": false,
            "wait_interval": 0
          }
        }
      },
      "cell_type": "code",
      "source": [
        "import pandas as pd\n",
        "predictions = model.predict_classes(x_test)\n",
        "\n",
        "predictions = list(predictions)\n",
        "actuals = list(y_test)\n",
        "\n",
        "sub = pd.DataFrame({'Actual': actuals, 'Predictions': predictions})\n",
        "sub.to_csv('./output_cnn.csv', index=False)"
      ],
      "execution_count": 0,
      "outputs": []
    },
    {
      "metadata": {
        "id": "xetQRjzDHFGC",
        "colab_type": "code",
        "colab": {
          "autoexec": {
            "startup": false,
            "wait_interval": 0
          }
        }
      },
      "cell_type": "code",
      "source": [
        ""
      ],
      "execution_count": 0,
      "outputs": []
    }
  ]
}